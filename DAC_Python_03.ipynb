{
  "cells": [
    {
      "cell_type": "markdown",
      "metadata": {
        "id": "view-in-github",
        "colab_type": "text"
      },
      "source": [
        "<a href=\"https://colab.research.google.com/github/trentgooden/DataAnalyticsClub/blob/main/DAC_Python_03.ipynb\" target=\"_parent\"><img src=\"https://colab.research.google.com/assets/colab-badge.svg\" alt=\"Open In Colab\"/></a>"
      ]
    },
    {
      "cell_type": "code",
      "execution_count": null,
      "metadata": {
        "id": "2ZSEHrTDbSCY"
      },
      "outputs": [],
      "source": []
    },
    {
      "cell_type": "markdown",
      "metadata": {
        "id": "A0elFfqLbSj5"
      },
      "source": [
        "#Data Analytics Club Python Series - Number 3\n",
        "\n",
        "One of the more common tasks where Python is useful is to download files from the web, either directly or via an Application Programming Interface.  We will look at both.  But first, since we are using Colab, we need to understand where to store files (Google Drive) and how to reference them."
      ]
    },
    {
      "cell_type": "code",
      "execution_count": null,
      "metadata": {
        "id": "JzEbNgL7buGD"
      },
      "outputs": [],
      "source": []
    },
    {
      "cell_type": "code",
      "execution_count": null,
      "metadata": {
        "colab": {
          "base_uri": "https://localhost:8080/"
        },
        "id": "znepzpwEb30r",
        "outputId": "355be462-dece-490c-87c0-1bbd889b6058"
      },
      "outputs": [
        {
          "output_type": "stream",
          "name": "stdout",
          "text": [
            "Drive already mounted at /gdrive; to attempt to forcibly remount, call drive.mount(\"/gdrive\", force_remount=True).\n",
            "/gdrive\n"
          ]
        }
      ],
      "source": [
        "# import the drive module\n",
        "from google.colab import drive\n",
        "# mount your Google Drive\n",
        "drive.mount('/gdrive')\n",
        "%cd /gdrive"
      ]
    },
    {
      "cell_type": "code",
      "execution_count": null,
      "metadata": {
        "id": "N2TaImi3c68a",
        "colab": {
          "base_uri": "https://localhost:8080/"
        },
        "outputId": "27ec0f6b-0fb2-487a-f349-92e1b22e7e55"
      },
      "outputs": [
        {
          "output_type": "stream",
          "name": "stdout",
          "text": [
            "File downloaded and saved to Google Drive successfully!\n"
          ]
        }
      ],
      "source": [
        "import requests\n",
        "\n",
        "# Define the URL of the file to download\n",
        "file_url = \"https://thedocs.worldbank.org/en/doc/5d903e848db1d1b83e0ec8f744e55570-0350012021/related/CMO-Historical-Data-Monthly.xlsx\"\n",
        "\n",
        "# Define the local file path to save the downloaded file\n",
        "local_file_path = \"/content/drive/MyDrive/CMO-Historical-Data-Monthly.xlsx\"\n",
        "\n",
        "# Download the file from the URL\n",
        "response = requests.get(file_url)\n",
        "\n",
        "#200 is a successful request in HTTP, 404 not found, 403 forbidden, 500 server error\n",
        "if response.status_code == 200:\n",
        "    # Save the downloaded file to Google Drive\n",
        "    # 'wb' means write binary, which is typically used to write non text files like spreadsheets\n",
        "    with open(local_file_path, 'wb') as file:\n",
        "        file.write(response.content)\n",
        "    print(\"File downloaded and saved to Google Drive successfully!\")\n",
        "else:\n",
        "    print(f\"Failed to download the file. Status code: {response.status_code}\")\n"
      ]
    },
    {
      "cell_type": "code",
      "source": [
        "import pandas as pd\n",
        "from google.colab import drive\n",
        "\n",
        "#Mount Google Drive\n",
        "#drive.mount('/content/drive/MyDrive')\n",
        "\n",
        "local_file_path = \"/content/drive/MyDrive/CMO-Historical-Data-Monthly.xlsx\"\n",
        "\n",
        "#df = pd.read_excel(local_file_path)\n",
        "df = pd.read_excel(local_file_path, sheet_name = 'Monthly Prices', skiprows=4)\n",
        "\n",
        "print(df.head())\n",
        "\n",
        "df1 = df.melt(id_vars=[\"Commodity\"], var_name=\"Date\",  value_name=\"Value\")\n",
        "\n",
        "print(df1)"
      ],
      "metadata": {
        "id": "3SI5kEWDgtta"
      },
      "execution_count": null,
      "outputs": []
    },
    {
      "cell_type": "markdown",
      "source": [
        "#Application Programming Interfaces (APIs)\n",
        "\n",
        "We will use the US Census Bureaus API to query the Components of Population Change for a few counties, then use"
      ],
      "metadata": {
        "id": "5CLx_bJEqZiZ"
      }
    },
    {
      "cell_type": "code",
      "source": [
        "#Must request API Key\n",
        "#User Guide: https://www.census.gov/data/developers/guidance/api-user-guide.html\n",
        "#Available APIs: https://www.census.gov/data/developers/data-sets.html\n",
        "\n",
        "\n",
        "\n",
        "import requests  #for web request\n",
        "import pandas as pd\n",
        "%matplotlib inline\n",
        "\n",
        "#with open('C:/users/tgooden/Desktop/census_api_key.txt') as key:\n",
        "#    api_key=key.read().strip()\n",
        "\n",
        "#print(api_key)\n",
        "\n",
        "#HOST = \"https://api.census.gov/data\"\n",
        "year = \"2018\"\n",
        "dsource = \"pep\"\n",
        "dname = \"components\"\n",
        "cols = \"GEONAME,NATURALINC,DOMESTICMIG,INTERNATIONALMIG\"\n",
        "state = \"13\"\n",
        "county = \"121,067,089,117,135\"\n",
        "api_key = \"<your api key here>\"\n",
        "\n",
        "#when using an \"f\" (formatted string) in front of a string,\n",
        "#all the variables inside curly brackets are read and evaluated at runtime\n",
        "base_url = f'https://api.census.gov/data/{year}/{dsource}/{dname}'\n",
        "data_url = f'{base_url}?get={cols}&for=county:{county}&in=state:{state}&key={api_key}'\n",
        "print(\"The data url is: \" + data_url)\n",
        "response=requests.get(data_url)\n",
        "print(response.text)\n",
        "\n",
        "data=response.json()\n",
        "df=pd.DataFrame(data[1:], columns=data[0]).\\\n",
        "    rename(columns={\"NATURALINC\": \"Natural Increase\", \"DOMESTICMIG\": \"Net Domestic Mig\", \"INTERNATIONALMIG\":\"Net Foreign Mig\"})\n",
        "df['fips']=df.state+df.county\n",
        "df.set_index('fips',inplace=True)\n",
        "df.drop(columns=['state','county'])\n",
        "df=df.astype(dtype={'Natural Increase':'int64','Net Domestic Mig':'int64','Net Foreign Mig':'int64'})\n",
        "df\n",
        "\n",
        "labels=df['GEONAME'].str.split(' ',expand=True)[0]\n",
        "ax=df.plot.bar(rot=0, title='Components of Population Change 2017-18')\n",
        "ax.set_xticklabels(labels)\n",
        "ax.set_xlabel('')"
      ],
      "metadata": {
        "id": "zNaqnzmIqskD"
      },
      "execution_count": null,
      "outputs": []
    },
    {
      "cell_type": "markdown",
      "source": [
        "Use the Series `map()` method.\n",
        "E.g. To filter by the length of a column values:"
      ],
      "metadata": {
        "id": "ZCouWDFRhg74"
      }
    },
    {
      "cell_type": "markdown",
      "metadata": {
        "id": "pL5X0XrbcE7l"
      },
      "source": [
        "After executing the cell above, a new file named 'Sample file.txt' will appear in your [drive.google.com](https://drive.google.com/) file list."
      ]
    }
  ],
  "metadata": {
    "colab": {
      "provenance": [],
      "mount_file_id": "1dKN4jF6VrNMJr07rM1tTkwRIXC49db2e",
      "authorship_tag": "ABX9TyNx4DI5dBjY4XbaeqTlLNAk",
      "include_colab_link": true
    },
    "kernelspec": {
      "display_name": "Python 3",
      "name": "python3"
    },
    "language_info": {
      "name": "python"
    }
  },
  "nbformat": 4,
  "nbformat_minor": 0
}