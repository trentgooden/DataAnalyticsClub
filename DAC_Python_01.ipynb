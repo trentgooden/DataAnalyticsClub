{
  "nbformat": 4,
  "nbformat_minor": 0,
  "metadata": {
    "colab": {
      "provenance": [],
      "authorship_tag": "ABX9TyNo0f1mN4jrmFTsmKSs2GHy",
      "include_colab_link": true
    },
    "kernelspec": {
      "name": "python3",
      "display_name": "Python 3"
    },
    "language_info": {
      "name": "python"
    }
  },
  "cells": [
    {
      "cell_type": "markdown",
      "metadata": {
        "id": "view-in-github",
        "colab_type": "text"
      },
      "source": [
        "<a href=\"https://colab.research.google.com/github/trentgooden/DataAnalyticsClub/blob/main/DAC_Python_01.ipynb\" target=\"_parent\"><img src=\"https://colab.research.google.com/assets/colab-badge.svg\" alt=\"Open In Colab\"/></a>"
      ]
    },
    {
      "cell_type": "code",
      "execution_count": 1,
      "metadata": {
        "id": "FCTHIp7oJ4jW"
      },
      "outputs": [],
      "source": [
        "#The hashtag is a comment and will be ignored by the interpreter\n",
        "#This is Google Colab, an excutable document that lets you write, run and share code\n",
        "#There are many IDEs (Integrated Development Environment) you can use to write Python (Visual Studio Code, PyCharm, IDLE, many others)\n",
        "#We will use Colab because it runs inside of your browser and requires no configuraton on your individual computer\n",
        "\n",
        "# A Great Resource - https://automatetheboringstuff.com/\n"
      ]
    },
    {
      "cell_type": "code",
      "source": [
        "#This is a 'Code' Cell"
      ],
      "metadata": {
        "id": "9yxn3-ZzLKMr"
      },
      "execution_count": null,
      "outputs": []
    },
    {
      "cell_type": "markdown",
      "source": [
        "**This is a text Cell**"
      ],
      "metadata": {
        "id": "1t0kqJZlLMb9"
      }
    },
    {
      "cell_type": "code",
      "source": [
        "#Let's start by printing something to the screen\n",
        "print ('What time is the Data Analytics Club Meeting Tonight?')\n",
        "#Run this cell by clicking play to the left or Shift + Enter on keyboard"
      ],
      "metadata": {
        "id": "JCYQIILqLQZs"
      },
      "execution_count": null,
      "outputs": []
    },
    {
      "cell_type": "code",
      "source": [
        "#Let's create a variable, collect some input and write it back out\n",
        "\n",
        "major = input ('Please enter your major: ')\n",
        "print ('Hi, your major is ' + major + '.')\n"
      ],
      "metadata": {
        "id": "P7u7KpEhK84_"
      },
      "execution_count": null,
      "outputs": []
    },
    {
      "cell_type": "code",
      "source": [
        "#We can do basic arithmetic\n",
        "3+3"
      ],
      "metadata": {
        "id": "ntth0QgNMbC0"
      },
      "execution_count": null,
      "outputs": []
    },
    {
      "cell_type": "code",
      "source": [
        "#We can add using variables\n",
        "#In this case, a, b and c are all variables\n",
        "\n",
        "a = 6\n",
        "b = 4\n",
        "c = a + b\n",
        "\n",
        "#print('Variable C is:' + c + '.')   #oops, an error\n",
        "\n",
        "c = str(c)\n",
        "\n",
        "print('Variable C is: ' + c + '.')"
      ],
      "metadata": {
        "colab": {
          "base_uri": "https://localhost:8080/"
        },
        "id": "ssJZM_DiMgXk",
        "outputId": "26755342-29a8-4d4c-a606-f45e85d7aa98"
      },
      "execution_count": 47,
      "outputs": [
        {
          "output_type": "stream",
          "name": "stdout",
          "text": [
            "Variable C is: 10.\n"
          ]
        }
      ]
    },
    {
      "cell_type": "code",
      "source": [
        "#Data Types\n",
        "#integers ......6,3,10\n",
        "#floats.....5.2, 4.76543\n",
        "#strings.......'Sample String'\n",
        "#There are others but we will start with these\n",
        "\n",
        "a = 6\n",
        "b = 4\n",
        "c = a + b\n",
        "d = 'Placeholder'\n",
        "e = 5.03\n",
        "\n",
        "#type(e)\n",
        "\n",
        "print ('Variable A is: ' + str(type(a)))\n",
        "print ('Variable B is: ' + str(type(b)))\n",
        "print ('Variable C is: ' + str(type(c)))\n",
        "print ('Variable D is: ' + str(type(d)))\n",
        "print ('Variable E is: ' + str(type(e)))"
      ],
      "metadata": {
        "colab": {
          "base_uri": "https://localhost:8080/"
        },
        "id": "hsNcHhqIMpv9",
        "outputId": "345c2659-c7b1-465a-da2a-692bcf8200b3"
      },
      "execution_count": 50,
      "outputs": [
        {
          "output_type": "stream",
          "name": "stdout",
          "text": [
            "Variable A is: <class 'int'>\n",
            "Variable B is: <class 'int'>\n",
            "Variable C is: <class 'int'>\n",
            "Variable D is: <class 'str'>\n",
            "Variable E is: <class 'float'>\n"
          ]
        }
      ]
    },
    {
      "cell_type": "code",
      "source": [
        "#What happens if I add two strings?\n",
        "a = 'Bidgood'\n",
        "b = 'Hall'\n",
        "c = a + b\n",
        "print(c)"
      ],
      "metadata": {
        "colab": {
          "base_uri": "https://localhost:8080/"
        },
        "id": "-WnOWw3tNgiN",
        "outputId": "a139cbba-0ee1-4317-ed59-03f47e19614d"
      },
      "execution_count": 51,
      "outputs": [
        {
          "output_type": "stream",
          "name": "stdout",
          "text": [
            "BidgoodHall\n"
          ]
        }
      ]
    },
    {
      "cell_type": "code",
      "source": [
        "#What about a space?\n",
        "a = 'Bidgood'\n",
        "b = 'Hall'\n",
        "c = a + ' ' + b\n",
        "print(c)\n"
      ],
      "metadata": {
        "colab": {
          "base_uri": "https://localhost:8080/"
        },
        "id": "GfR4gpXQOc-E",
        "outputId": "0175d5b6-b315-4d55-b882-6676fdfa67a3"
      },
      "execution_count": 52,
      "outputs": [
        {
          "output_type": "stream",
          "name": "stdout",
          "text": [
            "Bidgood Hall\n"
          ]
        }
      ]
    },
    {
      "cell_type": "code",
      "source": [
        "#Variable Names\n",
        "#There are several rules in Python for Variable Names\n",
        "#Each programming language has defined rules for variable names\n",
        "\n",
        "#Must start with a letter or the underscore character\n",
        "#Cannot start with a number\n",
        "#Can only contain alpha-numeric characters and underscores\n",
        "#Variables are case sensitive (address, Address and ADDRESS are three different variables in Python)\n",
        "#Keywords cannot be used as variable names (print, str)\n",
        ""
      ],
      "metadata": {
        "id": "zjvY5W6LOuHM"
      },
      "execution_count": 19,
      "outputs": []
    },
    {
      "cell_type": "code",
      "source": [
        "#Python has many, many functions\n",
        "#A function is a block of code that only runs when called\n",
        "#Generally, you pass data to a function and get data back\n",
        "#You don't have to write them yourself!\n",
        "\n",
        "a = 'Alston'\n",
        "b = 'Hall'\n",
        "\n",
        "len(a)\n",
        "#len(b)"
      ],
      "metadata": {
        "colab": {
          "base_uri": "https://localhost:8080/"
        },
        "id": "mKNHcOI1PnyO",
        "outputId": "67f09a79-a1e8-4b6b-c887-901ac1b520ca"
      },
      "execution_count": 55,
      "outputs": [
        {
          "output_type": "execute_result",
          "data": {
            "text/plain": [
              "6"
            ]
          },
          "metadata": {},
          "execution_count": 55
        }
      ]
    },
    {
      "cell_type": "code",
      "source": [
        "#Does it count a space as a character?\n",
        "a = 'Alston '\n",
        "\n",
        "len(a)"
      ],
      "metadata": {
        "colab": {
          "base_uri": "https://localhost:8080/"
        },
        "id": "3DYrL1eSQKjp",
        "outputId": "5f1fdc4c-7854-40af-a6b9-e34787297d24"
      },
      "execution_count": 56,
      "outputs": [
        {
          "output_type": "execute_result",
          "data": {
            "text/plain": [
              "7"
            ]
          },
          "metadata": {},
          "execution_count": 56
        }
      ]
    },
    {
      "cell_type": "code",
      "source": [
        "#Here we will use the 'len' function to tell us the length of a string variable\n",
        "\n",
        "a = 'Alston'\n",
        "b = 'Hall'\n",
        "print('The length of a is: ' + len(a)) #oops, but we've seen this before"
      ],
      "metadata": {
        "id": "jg_CsB6tQahW"
      },
      "execution_count": null,
      "outputs": []
    },
    {
      "cell_type": "code",
      "source": [
        "#One way to resolve the error\n",
        "a = 'Alston'\n",
        "b = 'Hall'\n",
        "\n",
        "print('The length of a is: ' + str(len(a)))\n",
        "print('The length of b is: ' + str(len(b)))"
      ],
      "metadata": {
        "colab": {
          "base_uri": "https://localhost:8080/"
        },
        "id": "VQ9IYWIuQhQF",
        "outputId": "799a7fb1-39ea-4ce6-fb67-dc81f88e42b8"
      },
      "execution_count": 58,
      "outputs": [
        {
          "output_type": "stream",
          "name": "stdout",
          "text": [
            "The length of a is: 6\n",
            "The length of b is: 4\n"
          ]
        }
      ]
    },
    {
      "cell_type": "code",
      "source": [
        "#What about dirty data?\n",
        "\n",
        "a = '   The Quad   '\n",
        "b = 'University Blvd   '\n",
        "\n",
        "#I don't use the word ALWAYS often, but ALWAYS, ALWAYS, ALWAYS trim/strip spaces from your variables, even if you don't see any when looking at them\n",
        "\n",
        "#Python has a few functions we could use here, strip lstrip, rstrip\n",
        "\n",
        "#https://docs.python.org/3/library/stdtypes.html?highlight=strip#str.strip\n",
        "#https://docs.python.org/3/library/stdtypes.html?highlight=strip#str.rstrip\n",
        "#https://docs.python.org/3/library/stdtypes.html?highlight=strip#str.lstrip\n",
        "\n",
        "new_a = a.strip()\n",
        "new_b = b.strip()\n",
        "\n",
        "print('The length of a is: ' + str(len(a)))\n",
        "print('The length of new_a is: ' + str(len(new_a)))\n",
        "print('The length of b is: ' + str(len(b)))\n",
        "print('The length of new_b is: ' + str(len(b)))\n",
        "\n",
        "#What is the issue with the last line of code?  Am I getting what I intended?\n"
      ],
      "metadata": {
        "id": "FMWc3VT5QnBm"
      },
      "execution_count": null,
      "outputs": []
    },
    {
      "cell_type": "code",
      "source": [
        "#The Boolean Data Type\n",
        "#Unlike strings, integers and floats, boolean data types only have two values True and False\n",
        "#In Python, the True must have a capital T and lowercase rue, likewise False must have a capital F and lowercase alse\n",
        "\n",
        "received = True\n",
        "type(received)\n"
      ],
      "metadata": {
        "colab": {
          "base_uri": "https://localhost:8080/"
        },
        "id": "Wmdds6DBRizs",
        "outputId": "cbdad3ee-f85d-4162-c721-2bcd9b94ed54"
      },
      "execution_count": 30,
      "outputs": [
        {
          "output_type": "execute_result",
          "data": {
            "text/plain": [
              "bool"
            ]
          },
          "metadata": {},
          "execution_count": 30
        }
      ]
    },
    {
      "cell_type": "code",
      "source": [
        "received = True\n",
        "received = false"
      ],
      "metadata": {
        "id": "nRpVzDOeVzrd"
      },
      "execution_count": null,
      "outputs": []
    },
    {
      "cell_type": "code",
      "source": [
        "#Operators in Python\n",
        "# == Equal to_filter\n",
        "# != Not equal to\n",
        "# < Less than\n",
        "# > Greater than\n",
        "# <= Less than or equal to\n",
        "# >= Greater than or equal to\n",
        "\n",
        "42 == 42\n"
      ],
      "metadata": {
        "id": "BkA19FknV170"
      },
      "execution_count": null,
      "outputs": []
    },
    {
      "cell_type": "code",
      "source": [
        "43 == 109"
      ],
      "metadata": {
        "id": "0Tz97PnzWbBd"
      },
      "execution_count": null,
      "outputs": []
    },
    {
      "cell_type": "code",
      "source": [
        "2 != 3"
      ],
      "metadata": {
        "id": "6A7NORcaWeRR"
      },
      "execution_count": null,
      "outputs": []
    },
    {
      "cell_type": "code",
      "source": [
        "8 != 8"
      ],
      "metadata": {
        "colab": {
          "base_uri": "https://localhost:8080/"
        },
        "id": "5xjAxnFDWjxE",
        "outputId": "f518f46c-cba8-4dbf-91d6-1132bb62082c"
      },
      "execution_count": 38,
      "outputs": [
        {
          "output_type": "execute_result",
          "data": {
            "text/plain": [
              "False"
            ]
          },
          "metadata": {},
          "execution_count": 38
        }
      ]
    },
    {
      "cell_type": "code",
      "source": [
        "#An important distinction\n",
        "\n",
        "# == checks to see if two values are equal\n",
        "\n",
        "# = assigns the value on the right side of the equals sign to the variable on the left\n",
        "\n",
        "#We can also use and/or logic with our boolean operators\n",
        "\n",
        "(1==1) or (2==3)\n",
        "\n",
        "\n",
        "\n"
      ],
      "metadata": {
        "colab": {
          "base_uri": "https://localhost:8080/"
        },
        "id": "k1QsDqWiWt2e",
        "outputId": "5947df31-4fea-4959-cadf-931cd23fdaf3"
      },
      "execution_count": 40,
      "outputs": [
        {
          "output_type": "execute_result",
          "data": {
            "text/plain": [
              "True"
            ]
          },
          "metadata": {},
          "execution_count": 40
        }
      ]
    },
    {
      "cell_type": "code",
      "source": [
        "(4 < 10) and (10 < 3)"
      ],
      "metadata": {
        "colab": {
          "base_uri": "https://localhost:8080/"
        },
        "id": "xTgt-hCaaXc6",
        "outputId": "25d8cad5-fabf-469c-e793-5add1d4ab8de"
      },
      "execution_count": 41,
      "outputs": [
        {
          "output_type": "execute_result",
          "data": {
            "text/plain": [
              "False"
            ]
          },
          "metadata": {},
          "execution_count": 41
        }
      ]
    },
    {
      "cell_type": "code",
      "source": [],
      "metadata": {
        "id": "ZPXuVi8OaYTq"
      },
      "execution_count": null,
      "outputs": []
    }
  ]
}