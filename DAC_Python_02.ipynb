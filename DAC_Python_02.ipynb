{
  "nbformat": 4,
  "nbformat_minor": 0,
  "metadata": {
    "colab": {
      "provenance": [],
      "authorship_tag": "ABX9TyPnt/KSvzE1CEOIRSA3sJw1",
      "include_colab_link": true
    },
    "kernelspec": {
      "name": "python3",
      "display_name": "Python 3"
    },
    "language_info": {
      "name": "python"
    }
  },
  "cells": [
    {
      "cell_type": "markdown",
      "metadata": {
        "id": "view-in-github",
        "colab_type": "text"
      },
      "source": [
        "<a href=\"https://colab.research.google.com/github/trentgooden/DataAnalyticsClub/blob/main/DAC_Python_02.ipynb\" target=\"_parent\"><img src=\"https://colab.research.google.com/assets/colab-badge.svg\" alt=\"Open In Colab\"/></a>"
      ]
    },
    {
      "cell_type": "code",
      "execution_count": null,
      "metadata": {
        "id": "zPyE8OS3J7HY"
      },
      "outputs": [],
      "source": []
    },
    {
      "cell_type": "markdown",
      "source": [
        "Last week we briefly discussed markdown text.  Let's dive in a little more.\n",
        "\n",
        "First, a markdown resource: https://colab.research.google.com/notebooks/markdown_guide.ipynb\n",
        "\n",
        "Google Colab uses marked.js (https://github.com/markedjs/marked) . It is similar but not identical to what you would see in Jupyter or GitHub\n",
        "\n",
        "**This is bold text**\n",
        "\n",
        "*This is italicized text*\n",
        "\n",
        "`Monospace` (good for code or representing expected output)\n",
        "\n",
        "~~Strikethrough~~\n",
        "\n",
        "[Google](https://www.google.com)\n",
        "\n",
        "#Section 1\n",
        "\n",
        "#Section 2\n",
        "\n",
        "## Sub-section under Section 2\n",
        "\n",
        "### Sub-section under the sub0section under Section 2\n",
        "\n",
        ">Indent\n",
        "\n",
        ">>Two levels of indention\n",
        "\n",
        "```python\n",
        "print(\"my string\")\n",
        "```\n",
        "\n",
        "1. Ordered List Item 1\n",
        "1. Ordered List Item 2\n",
        "1. Ordered List Item 3\n",
        "\n",
        "* Unordered List Item 1\n",
        "* Unordered List Item 2\n",
        "\n",
        "Equations:\n",
        "\n",
        "$y = x^2$\n",
        "<br></br>\n",
        "\n",
        "$e^{i\\pi} + 1 = 0$\n",
        "\n",
        "\n",
        "$e^x=\\sum_{i=0}^\\infty \\frac{1}{i!}x^i$\n",
        "<br></br>\n",
        "\n",
        "$\\frac{n1}{k!(n-k)!} = {n \\choose k}$\n",
        "\n",
        "\n",
        "\n",
        "\n"
      ],
      "metadata": {
        "id": "qJKhy1wXMOCI"
      }
    },
    {
      "cell_type": "markdown",
      "source": [],
      "metadata": {
        "id": "wy1qHDLtW0zr"
      }
    },
    {
      "cell_type": "markdown",
      "source": [
        "# **Flow Control Statements**"
      ],
      "metadata": {
        "id": "Fa-YA0-vXeWe"
      }
    },
    {
      "cell_type": "code",
      "source": [
        "#if and else are python keywords\n",
        "\n",
        "#The example below sets two variables, then tests a condition to determine which clause to run\n",
        "\n",
        "#Visualize a similar example at https://autbor.com/blocks\n",
        "\n",
        "name = 'DAC'\n",
        "password = 'Bidgood250'\n",
        "if password = 'Bidgood250'\n",
        "  print ('Access granted.')\n",
        "else:\n",
        "  print ('Wrong password')\n",
        "\n",
        "#The else clause is optional"
      ],
      "metadata": {
        "id": "ObYT8nlzXkDg"
      },
      "execution_count": null,
      "outputs": []
    },
    {
      "cell_type": "code",
      "source": [
        "#elif Statement\n",
        "\n",
        "#Similar to if statement, but used when you have multiple possible clauses that you want to execute\n",
        "\n",
        "error_severity = 12\n",
        "\n",
        "if error_severity >=0 and error_severity <=10:\n",
        "  print ('Warning')\n",
        "elif error_severity > 10 and error_severity <=20:\n",
        "  print ('Standard Error')\n",
        "elif error_severity >= 20:\n",
        "  print ('Critical Error')\n"
      ],
      "metadata": {
        "id": "pcIcL5bGYzq5"
      },
      "execution_count": null,
      "outputs": []
    },
    {
      "cell_type": "code",
      "source": [
        "#while loop\n",
        "\n",
        "#one of the more common flow control statements you will use\n",
        "\n",
        "count = 0\n",
        "while count < 5:\n",
        "  print ('Count is ' + str(count) + '.')\n",
        "  count = count + 1"
      ],
      "metadata": {
        "colab": {
          "base_uri": "https://localhost:8080/"
        },
        "id": "H15_aHbHbkrn",
        "outputId": "c0f40e8b-d50b-4327-e1f9-445412fbd752"
      },
      "execution_count": 8,
      "outputs": [
        {
          "output_type": "stream",
          "name": "stdout",
          "text": [
            "Count is 0.\n",
            "Count is 1.\n",
            "Count is 2.\n",
            "Count is 3.\n",
            "Count is 4.\n"
          ]
        }
      ]
    },
    {
      "cell_type": "code",
      "source": [
        "#what if I move the location where the count variable is set?\n",
        "count = 0\n",
        "while count < 5:\n",
        "  count = count + 1\n",
        "  print ('Count is ' + str(count) + '.')\n"
      ],
      "metadata": {
        "colab": {
          "base_uri": "https://localhost:8080/"
        },
        "id": "vhNJvt6WcIa3",
        "outputId": "e5e3f2ce-de58-4945-d06f-b581063d67e9"
      },
      "execution_count": 9,
      "outputs": [
        {
          "output_type": "stream",
          "name": "stdout",
          "text": [
            "Count is 1.\n",
            "Count is 2.\n",
            "Count is 3.\n",
            "Count is 4.\n",
            "Count is 5.\n"
          ]
        }
      ]
    },
    {
      "cell_type": "markdown",
      "source": [
        "Let's look at a while loop that isn't working like we expect:\n",
        "\n",
        "https://autbor.com/yourname"
      ],
      "metadata": {
        "id": "Ty2hBQ0Uca78"
      }
    },
    {
      "cell_type": "code",
      "source": [
        "name = ''\n",
        "while name != 'your name':\n",
        "  print('Please type your name.')\n",
        "  name = input()\n",
        "print('Thank you!')"
      ],
      "metadata": {
        "id": "x1XDc51fcwrA"
      },
      "execution_count": null,
      "outputs": []
    },
    {
      "cell_type": "code",
      "source": [],
      "metadata": {
        "id": "jV1wwQ2RdB_E"
      },
      "execution_count": null,
      "outputs": []
    }
  ]
}