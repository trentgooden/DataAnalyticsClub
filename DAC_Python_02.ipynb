{
  "nbformat": 4,
  "nbformat_minor": 0,
  "metadata": {
    "colab": {
      "provenance": [],
      "authorship_tag": "ABX9TyObjrvkDDkcVTGR5gTPePKR",
      "include_colab_link": true
    },
    "kernelspec": {
      "name": "python3",
      "display_name": "Python 3"
    },
    "language_info": {
      "name": "python"
    }
  },
  "cells": [
    {
      "cell_type": "markdown",
      "metadata": {
        "id": "view-in-github",
        "colab_type": "text"
      },
      "source": [
        "<a href=\"https://colab.research.google.com/github/trentgooden/DataAnalyticsClub/blob/main/DAC_Python_02.ipynb\" target=\"_parent\"><img src=\"https://colab.research.google.com/assets/colab-badge.svg\" alt=\"Open In Colab\"/></a>"
      ]
    },
    {
      "cell_type": "code",
      "execution_count": null,
      "metadata": {
        "id": "zPyE8OS3J7HY"
      },
      "outputs": [],
      "source": []
    },
    {
      "cell_type": "markdown",
      "source": [
        "Last week we briefly discussed markdown text.  Let's dive in a little more.\n",
        "\n",
        "First, a markdown resource: https://colab.research.google.com/notebooks/markdown_guide.ipynb\n",
        "\n",
        "Google Colab uses marked.js (https://github.com/markedjs/marked) . It is similar but not identical to what you would see in Jupyter or GitHub\n",
        "\n",
        "**This is bold text**\n",
        "\n",
        "*This is italicized text*\n",
        "\n",
        "`Monospace` (good for code or representing expected output)\n",
        "\n",
        "~~Strikethrough~~\n",
        "\n",
        "[Google](https://www.google.com)\n",
        "\n",
        "#Section 1\n",
        "\n",
        "#Section 2\n",
        "\n",
        "## Sub-section under Section 2\n",
        "\n",
        "### Sub-section under the sub0section under Section 2\n",
        "\n",
        ">Indent\n",
        "\n",
        ">>Two levels of indention\n",
        "\n",
        "```python\n",
        "print(\"my string\")\n",
        "```\n",
        "\n",
        "1. Ordered List Item 1\n",
        "1. Ordered List Item 2\n",
        "1. Ordered List Item 3\n",
        "\n",
        "* Unordered List Item 1\n",
        "* Unordered List Item 2\n",
        "\n",
        "Equations:\n",
        "\n",
        "$y = x^2$\n",
        "<br></br>\n",
        "\n",
        "$e^{i\\pi} + 1 = 0$\n",
        "\n",
        "\n",
        "$e^x=\\sum_{i=0}^\\infty \\frac{1}{i!}x^i$\n",
        "<br></br>\n",
        "\n",
        "$\\frac{n1}{k!(n-k)!} = {n \\choose k}$\n",
        "\n",
        "\n",
        "\n",
        "\n"
      ],
      "metadata": {
        "id": "qJKhy1wXMOCI"
      }
    }
  ]
}